{
 "cells": [
  {
   "cell_type": "markdown",
   "metadata": {},
   "source": [
    "# Import Libraries and Read .csv File Into Arrays"
   ]
  },
  {
   "cell_type": "code",
   "execution_count": 1,
   "metadata": {},
   "outputs": [],
   "source": [
    "import numpy as np\n",
    "import csv\n",
    "import matplotlib.pyplot as plt\n",
    "\n",
    "# Define some constants\n",
    "G  = 6.67259 * 10**(-11)\n",
    "Ms = 1.989 * 10**30     #sun mass\n",
    "Re = 6371 * 10**3       #earth radius\n",
    "\n",
    "wdid = []\n",
    "logg = []\n",
    "mass = []\n",
    "count = 0\n",
    "\n",
    "# Read  CSV file and save ids, masses, and log(g)s into arrays\n",
    "with open('white_dwarf_data.csv', newline='') as csvfile:\n",
    "    reader = csv.reader(csvfile, delimiter=',')\n",
    "    for row in reader:\n",
    "        count = count + 1\n",
    "        if count==1: continue\n",
    "        wdid.append(row[0])\n",
    "        logg.append(float(row[1]))\n",
    "        mass.append(float(row[2]))"
   ]
  },
  {
   "cell_type": "markdown",
   "metadata": {},
   "source": [
    "# Calculations for Plotting"
   ]
  },
  {
   "cell_type": "markdown",
   "metadata": {},
   "source": [
    "Since masses are in Solar Masses, there is no need to modify it for out purposes. However, we require R, so we need to extract this from surface gravities.\n",
    "\n",
    "\\begin{equation}\n",
    "F= m_{object}g = \\frac{Gm_{planet}m_{object}}{r^2}\\rightarrow g=\\frac{Gm_{planet}}{r^2}\\rightarrow r=\\sqrt{\\frac{Gm_{planet}}{g}}\n",
    "\\end{equation}\n",
    "\n",
    "First, we have to free surface gravities from log base-10."
   ]
  },
  {
   "cell_type": "code",
   "execution_count": 2,
   "metadata": {},
   "outputs": [],
   "source": [
    "logg = np.array(logg)\n",
    "mass = np.array(mass)\n",
    "gnorm = 10**logg"
   ]
  },
  {
   "cell_type": "markdown",
   "metadata": {},
   "source": [
    "Then, we need to convert solar masses to SI units. Denoting $m_{planet}=mM_s$ Then, the formula becomes\n",
    "\\begin{equation}\n",
    "r=\\sqrt{\\frac{G}{g}}\\sqrt{m M_s}=\\sqrt{\\frac{m}{g}}\\sqrt{GM_s}\n",
    "\\end{equation}"
   ]
  },
  {
   "cell_type": "code",
   "execution_count": 3,
   "metadata": {},
   "outputs": [],
   "source": [
    "rads = np.sqrt((G*Ms)*mass/gnorm)"
   ]
  },
  {
   "cell_type": "markdown",
   "metadata": {},
   "source": [
    "The last required step is to divide these to the $R_{Earth}=6371\\times10^3 m$"
   ]
  },
  {
   "cell_type": "code",
   "execution_count": 4,
   "metadata": {},
   "outputs": [],
   "source": [
    "rads_earthed = rads / Re"
   ]
  },
  {
   "cell_type": "markdown",
   "metadata": {},
   "source": [
    "# Plotting"
   ]
  },
  {
   "cell_type": "code",
   "execution_count": 5,
   "metadata": {},
   "outputs": [
    {
     "data": {
      "image/png": "[encoded data removed]",
      "text/plain": [
       "<Figure size 432x288 with 1 Axes>"
      ]
     },
     "metadata": {
      "needs_background": "light"
     },
     "output_type": "display_data"
    }
   ],
   "source": [
    "plt.scatter(rads_earthed, mass)\n",
    "plt.xlabel(\"$R/R_E$\")\n",
    "plt.ylabel(\"Mass (in $M_s$)\")\n",
    "plt.title(\"Scaled Mass vs Radius Plot for White Dwarfs\")\n",
    "plt.grid()"
   ]
  },
  {
   "cell_type": "code",
   "execution_count": null,
   "metadata": {},
   "outputs": [],
   "source": []
  }
 ],
 "metadata": {
  "kernelspec": {
   "display_name": "Python 3",
   "language": "python",
   "name": "python3"
  },
  "language_info": {
   "codemirror_mode": {
    "name": "ipython",
    "version": 3
   },
   "file_extension": ".py",
   "mimetype": "text/x-python",
   "name": "python",
   "nbconvert_exporter": "python",
   "pygments_lexer": "ipython3",
   "version": "3.8.6"
  }
 },
 "nbformat": 4,
 "nbformat_minor": 4
}
